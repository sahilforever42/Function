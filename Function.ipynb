{
  "nbformat": 4,
  "nbformat_minor": 0,
  "metadata": {
    "colab": {
      "provenance": []
    },
    "kernelspec": {
      "name": "python3",
      "display_name": "Python 3"
    },
    "language_info": {
      "name": "python"
    }
  },
  "cells": [
    {
      "cell_type": "code",
      "execution_count": null,
      "metadata": {
        "id": "3hW1Po0mm54i"
      },
      "outputs": [],
      "source": []
    },
    {
      "cell_type": "markdown",
      "source": [
        " #  Function"
      ],
      "metadata": {
        "id": "811PLEhbm_Br"
      }
    },
    {
      "cell_type": "markdown",
      "source": [
        "1. What is the difference between a function and a method in Python?\n",
        "-  In Python, functions and methods are similar but have a key differences based on their context and how they are used. A function is a block of reusable code that is independent of any object or class. It is defined using the def keyword can be directly."
      ],
      "metadata": {
        "id": "Vn7G0X5QnVx8"
      }
    },
    {
      "cell_type": "markdown",
      "source": [
        "2.  Explain the concept of function arguments and parameters in Python.\n",
        "-  In Python, function arguments and parameters are terms used to describe the value passed to and received by  function.\n",
        "   \n",
        "   **Parameter**\n",
        "   \n",
        "   Parameter are placeholders defined in a function's signature to accept input values when the function is called. They specify the input function to requires to execute its logic.\n",
        "\n",
        "   **Arguments**\n",
        "\n",
        "  Arguments are the actual values or data passed to a function when it is called. It is mostly used in the function cell. They provide the input values for the funtion to process.\n",
        "  "
      ],
      "metadata": {
        "id": "cjNK9bEAoh36"
      }
    },
    {
      "cell_type": "markdown",
      "source": [
        "3.  What are the different ways to define and call a function in Python?\n",
        "-   In Python, functions can be defined and called in several ways depending on the requirements of program. There are following deiffernt ways to define and call a funtion in Python:\n",
        "1. Standard Function\n",
        "2. Function with Default Parameters\n",
        "3. Function with variable - length Arguments\n",
        "4. Lambda Functions\n",
        "5. Nested Function\n",
        "6. Recursive Function.\n",
        "7. Using *args and **kwargs Together\n",
        "8. Function as arguments\n",
        "9. Return Function from Another Function\n",
        "10. Method in Class.\n"
      ],
      "metadata": {
        "id": "czP6N-o7rO4j"
      }
    },
    {
      "cell_type": "markdown",
      "source": [
        "4. What is the purpose of the `return` statement in a Python function?.\n",
        "-  The 'return' statement in a Python serves the purpose of sending the results of function back to caller. It allows a function to produce a value or outcome that can be used later in the program."
      ],
      "metadata": {
        "id": "HmgGi8jns2iC"
      }
    },
    {
      "cell_type": "markdown",
      "source": [
        "5.  What are iterators in Python and how do they differ from iterables?\n",
        "-  An __iterable__ is any object that can be looped over (iterated) using a for loop. It contains data and implements the __iter__() method, which return s __iterator__.\n",
        "-  An __iterator__ is any object that produces the values of an iterable one at iterable one at a time when asked (using the next() function)."
      ],
      "metadata": {
        "id": "9lyjs2Olt31v"
      }
    },
    {
      "cell_type": "markdown",
      "source": [
        "6. Explain the concept of generators in Python and how they are defined.\n",
        "-  Generators are a simple way to create iterators using functions and the yield keyword instead of returning values.\n",
        "     \n",
        "     **Key Points**:\n",
        "-  yield Keyword:\n",
        "-  Yield vs. Return: Unlike the return statement, which exits the function, yield returns a value and pauses the function’s state, allowing it to resume from where it left off.\n",
        "-  Multiple Yields: Functions can yield multiple values over time, producing a sequence of results.\n",
        "Lazy Evaluation:\n",
        "-  On-Demand Data: Generators produce values one at a time and only when required, avoiding the need to generate or store all values upfront.\n",
        "-  Memory Efficiency: Since values are generated as needed and not all at once, generators use minimal memory.\n"
      ],
      "metadata": {
        "id": "eZLDwq-fvd7X"
      }
    },
    {
      "cell_type": "markdown",
      "source": [
        "7. What are the advantages of using generators over regular functions?\n",
        "\n",
        "- Using generators in Python provides several advantages over regular functions, practically in terms of efficency, memory usage and flexiblity. Here are the key benefits:\n",
        "1. Efficient Memory Usage: Generators do not store the entire sequence in memory, making them suitable for large datasets or infinite sequences.\n",
        "\n",
        "2. Simpler Syntax: Using yield simplifies the creation of iterators, making the code more concise and readable.\n",
        "3. Lazy Evalution: Generator compute values only when needed. This improves performance and reduces computation overhead if not all values are required immediatelty.\n",
        "4. Improved Performance for Iteration: Generators yield one value at a time, reducing the overhead of creating and  storing all elements upfront. This leads to better performance in loops and interative computations."
      ],
      "metadata": {
        "id": "_5yZ9Q3iwuGL"
      }
    },
    {
      "cell_type": "markdown",
      "source": [
        "8. What is a lambda function in Python and when is it typically used?\n",
        "-  Lambda functions are small, anonymous functions defined using the lambda keyword. They are used for creating small, throwaway functions without the need to formally define a function using def."
      ],
      "metadata": {
        "id": "cN7d9dNHzwHN"
      }
    },
    {
      "cell_type": "markdown",
      "source": [
        "9.  Explain the purpose and usage of the `map()` function in Python.\n",
        "-   The map function applies a given function to all items in an input iterable (like a list) and returns an iterator with the results. It is used to transform each item in an iterable by applying the specified function."
      ],
      "metadata": {
        "id": "uBGpSvF-z_2W"
      }
    },
    {
      "cell_type": "markdown",
      "source": [
        "10. What is the difference between `map()`, `reduce()`, and `filter()` functions in Python?\n",
        "-  The `map()`, `reduce()`, and `filter()` functions in Python are higher- order function used for processing iterables. Each serves a distinct purpose and provides a concise way to perform operation on collection of data.\n",
        "1.  map() are use when you need to apply a transformation to all elements in an iterable. Example: Converting temperature from Celsius to Fahrenheit.\n",
        "2. reduce() are uses when you need to aggregate values into a single result.\n",
        "example: Calculating the total product of all elements in a list.\n",
        "3. filter() are use when you need to select specific elemets from an iterable based on condition. Example: Extracting positive numbers from list."
      ],
      "metadata": {
        "id": "l9bMOokL0hL2"
      }
    },
    {
      "cell_type": "markdown",
      "source": [
        "# Practical Questions"
      ],
      "metadata": {
        "id": "QyTuaIOh2yyr"
      }
    },
    {
      "cell_type": "code",
      "source": [
        "#Write a Python function that takes a list of numbers as input and returns the sum of all even numbers in\n",
        "# the list.\n",
        "\n",
        "def sum_even_numbers(num):\n",
        "  sum = 0\n",
        "  for x in num:\n",
        "    if x % 2 == 0:\n",
        "      sum += x\n",
        "  return sum\n",
        "\n",
        "lists = [1, 2, 3, 4, 5, 6, 7, 8, 9, 10]\n",
        "\n"
      ],
      "metadata": {
        "id": "V3r7zcaeDgHc"
      },
      "execution_count": null,
      "outputs": []
    },
    {
      "cell_type": "code",
      "source": [
        "#Create a Python function that accepts a string and returns the reverse of that string.\n",
        "\n",
        "def reverse_str():\n",
        "   x = input(\"enter a string\\n\")\n",
        "   y = x[::-1]\n",
        "   return y\n",
        "\n",
        "\n",
        "\n",
        "z = reverse_str()\n",
        "print(f\"The reversed string is {z}\")"
      ],
      "metadata": {
        "id": "_V-n_4SHHCiu",
        "colab": {
          "base_uri": "https://localhost:8080/"
        },
        "outputId": "811525c9-5ea2-4284-ab31-4f03df1618fa"
      },
      "execution_count": 2,
      "outputs": [
        {
          "output_type": "stream",
          "name": "stdout",
          "text": [
            "enter a string\n",
            "Sahil\n",
            "The reversed string is lihaS\n"
          ]
        }
      ]
    },
    {
      "cell_type": "code",
      "source": [
        "#3 Implement a Python function that takes a list of integers and returns a new list containing the squares of\n",
        "#each number.\n",
        "\n",
        "def sq_of_num(numbers):\n",
        "    sq_list = []\n",
        "    for num in numbers:\n",
        "        sq_list.append(num*num)\n",
        "    return sq_list\n",
        "my_list = [1,2,3,4,5]\n",
        "result = sq_of_num(my_list)\n",
        "print(\"Original list:\", my_list)\n",
        "print(\"List of squares:\", result)\n",
        ""
      ],
      "metadata": {
        "colab": {
          "base_uri": "https://localhost:8080/"
        },
        "id": "55hS0zypW1gp",
        "outputId": "6dabab8f-735a-4f76-c225-a7a0b833f9b1"
      },
      "execution_count": 4,
      "outputs": [
        {
          "output_type": "stream",
          "name": "stdout",
          "text": [
            "Original list: [1, 2, 3, 4, 5]\n",
            "List of squares: [1, 4, 9, 16, 25]\n"
          ]
        }
      ]
    },
    {
      "cell_type": "code",
      "source": [
        "#4. Write a Python function that checks if a given number is prime or not from 1 to 200.\n",
        "\n",
        "def is_prime(num):\n",
        "    if num <= 1:\n",
        "        return False\n",
        "    # Indent the for loop to align with the if statement\n",
        "    for i in range(2, int(num ** 0.5) + 1):\n",
        "        if num % i == 0:\n",
        "            return False\n",
        "    return True\n",
        "\n",
        "for num in range(1, 201):\n",
        "    # Indent the print statement to be part of the if block\n",
        "    if is_prime(num):\n",
        "        print(num, end=\" \")"
      ],
      "metadata": {
        "colab": {
          "base_uri": "https://localhost:8080/"
        },
        "id": "kADWjSB0YLrO",
        "outputId": "0a3af085-cf75-4c21-c3a4-bb7c4881bcf9"
      },
      "execution_count": 7,
      "outputs": [
        {
          "output_type": "stream",
          "name": "stdout",
          "text": [
            "2 3 5 7 11 13 17 19 23 29 31 37 41 43 47 53 59 61 67 71 73 79 83 89 97 101 103 107 109 113 127 131 137 139 149 151 157 163 167 173 179 181 191 193 197 199 "
          ]
        }
      ]
    },
    {
      "cell_type": "code",
      "source": [
        "#5\n",
        "\n",
        "class FibonacciIterator:\n",
        "\n",
        "\n",
        "    def __init__(self, count):\n",
        "\n",
        "        self.count = count\n",
        "        self.a = 0\n",
        "        self.b = 1\n",
        "        self.current = 0\n",
        "\n",
        "    def __iter__(self):\n",
        "\n",
        "        return self\n",
        "\n",
        "    def __next__(self):\n",
        "\n",
        "        if self.current < self.count:\n",
        "            result = self.a\n",
        "            self.a, self.b = self.b, self.a + self.b\n",
        "            self.current += 1\n",
        "            return result\n",
        "        else:\n",
        "            raise StopIteration\n",
        "\n",
        "fib_iterator = FibonacciIterator(10)  # Generate the first 10 Fibonacci numbers\n",
        "\n",
        "for num in fib_iterator:\n",
        "    print(num, end=\" \")"
      ],
      "metadata": {
        "colab": {
          "base_uri": "https://localhost:8080/"
        },
        "id": "R-LDo0teczrS",
        "outputId": "498e67b2-1a3d-4f4b-f34b-d30d7f2e4f06"
      },
      "execution_count": 20,
      "outputs": [
        {
          "output_type": "stream",
          "name": "stdout",
          "text": [
            "0 1 1 2 3 5 8 13 21 34 "
          ]
        }
      ]
    },
    {
      "source": [
        "#7.  Implement a generator function that reads a file line by line and yields each line as a string.\n",
        "import os\n",
        "\n",
        "def read_file_lines(file_path):\n",
        "    # Check if the file exists\n",
        "    if not os.path.exists(file_path):\n",
        "        print(f\"Error: File not found: {file_path}\")\n",
        "        return\n",
        "\n",
        "    with open(file_path, 'r') as file:\n",
        "        for line in file:\n",
        "            # Strip leading/trailing whitespace and yield the line\n",
        "            yield line.strip()\n",
        "\n",
        "# Provide the correct path to your file\n",
        "file_path = \"Python_Functions_Assignment.docx\"  # Replace with the actual path if needed\n",
        "\n",
        "# Handle potential errors during file processing\n",
        "try:\n",
        "    for line in read_file_lines(file_path):\n",
        "        print(line)\n",
        "except FileNotFoundError:\n",
        "    print(f\"Error: File not found: {file_path}\")\n",
        "except Exception as e:\n",
        "    print(f\"An error occurred: {e}\")"
      ],
      "cell_type": "code",
      "metadata": {
        "colab": {
          "base_uri": "https://localhost:8080/"
        },
        "id": "dY8fIrytbzdD",
        "outputId": "5b775df1-65ea-4235-d07e-4cf580daaff8"
      },
      "execution_count": 14,
      "outputs": [
        {
          "output_type": "stream",
          "name": "stdout",
          "text": [
            "Error: File not found: Python_Functions_Assignment.docx\n"
          ]
        }
      ]
    },
    {
      "cell_type": "code",
      "source": [
        "#8.  Use a lambda function in Python to sort a list of tuples based on the second element of each tuple.\n",
        "\n",
        "data = [(1,2), (3,4), (5,6), (7,8)]\n",
        "sorted_data = sorted(data, key=lambda x: x[1])\n",
        "print(sorted_data)"
      ],
      "metadata": {
        "colab": {
          "base_uri": "https://localhost:8080/"
        },
        "id": "nZfjw-6fbI2f",
        "outputId": "6c93e60e-0071-4167-897f-1b28f4ca65de"
      },
      "execution_count": 21,
      "outputs": [
        {
          "output_type": "stream",
          "name": "stdout",
          "text": [
            "[(1, 2), (3, 4), (5, 6), (7, 8)]\n"
          ]
        }
      ]
    },
    {
      "cell_type": "code",
      "source": [
        "#9. Write a Python program that uses `map()` to convert a list of temperatures from Celsius to Fahrenheit.\n",
        "\n",
        "def celsius_to_fahrenheit(celsius):\n",
        "  return (celsius * 9/5) + 32\n",
        "\n",
        "\n",
        "celsius_temperatures = [0, 10, 20, 30, 40]\n",
        "\n",
        "\n",
        "fahrenheit_temperatures = list(map(celsius_to_fahrenheit, celsius_temperatures))\n",
        "\n",
        "print(\"Celsius Temperatures:\", celsius_temperatures)\n",
        "print(\"Fahrenheit Temperatures:\", fahrenheit_temperatures)"
      ],
      "metadata": {
        "colab": {
          "base_uri": "https://localhost:8080/"
        },
        "id": "bJt-dQCvd0XA",
        "outputId": "1ccce056-0c3b-40e7-b729-5c5e4c95e188"
      },
      "execution_count": 23,
      "outputs": [
        {
          "output_type": "stream",
          "name": "stdout",
          "text": [
            "Celsius Temperatures: [0, 10, 20, 30, 40]\n",
            "Fahrenheit Temperatures: [32.0, 50.0, 68.0, 86.0, 104.0]\n"
          ]
        }
      ]
    },
    {
      "cell_type": "code",
      "source": [
        "#10. Create a Python program that uses `filter()` to remove all the vowels from a given string.\n",
        "def remove_vowels(string):\n",
        "  vowels = \"aeiouAEIOU\"\n",
        "  return \"\".join(filter(lambda char: char not in vowels, string))\n",
        "\n",
        "\n",
        "string = input(\"Enter a string: \")\n",
        "\n",
        "\n",
        "string_without_vowels = remove_vowels(string)\n",
        "\n",
        "\n",
        "print(\"String without vowels:\", string_without_vowels)"
      ],
      "metadata": {
        "colab": {
          "base_uri": "https://localhost:8080/"
        },
        "id": "Ciw1ke6XeWGA",
        "outputId": "aa7a1599-0164-4c80-e092-67c4a502eb52"
      },
      "execution_count": 24,
      "outputs": [
        {
          "output_type": "stream",
          "name": "stdout",
          "text": [
            "Enter a string: I like my neighbours\n",
            "String without vowels:  lk my nghbrs\n"
          ]
        }
      ]
    },
    {
      "source": [
        "#11.\n",
        "def process_orders(orders):\n",
        "# Remove extra indentation from the return statement\n",
        "    return list(map(lambda order: (order[0], max(order[2] * order[3], 100)), orders))\n",
        "\n",
        "\n",
        "orders = [\n",
        "    [1, \"Learning Python,Mark Lutz\",40.95,4],\n",
        "    [2, \"Programming Python,Mark Lutz\",56.80,5],\n",
        "    [3, \"Head First, Paul Barry\",32.95,3],\n",
        "    [4, \"Einfuhrung in Python,Bernd Klein\",24.99, 3],\n",
        "\n",
        "]\n",
        "\n",
        "\n",
        "result = process_orders(orders)\n",
        "print(result)"
      ],
      "cell_type": "code",
      "metadata": {
        "colab": {
          "base_uri": "https://localhost:8080/"
        },
        "id": "LX-yhBcyf8Zr",
        "outputId": "d553e324-c861-4acc-c6e3-3d88800f4608"
      },
      "execution_count": 26,
      "outputs": [
        {
          "output_type": "stream",
          "name": "stdout",
          "text": [
            "[(1, 163.8), (2, 284.0), (3, 100), (4, 100)]\n"
          ]
        }
      ]
    },
    {
      "cell_type": "code",
      "source": [],
      "metadata": {
        "id": "ve8dbvIgf29z"
      },
      "execution_count": null,
      "outputs": []
    }
  ]
}